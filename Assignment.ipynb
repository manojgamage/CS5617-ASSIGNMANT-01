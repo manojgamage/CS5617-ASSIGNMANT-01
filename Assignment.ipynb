{
 "cells": [
  {
   "cell_type": "markdown",
   "metadata": {},
   "source": [
    "# Assignment 1"
   ]
  },
  {
   "cell_type": "markdown",
   "metadata": {},
   "source": [
    "### Importing Data"
   ]
  },
  {
   "cell_type": "code",
   "execution_count": 21,
   "metadata": {},
   "outputs": [
    {
     "data": {
      "text/html": [
       "<div>\n",
       "<style scoped>\n",
       "    .dataframe tbody tr th:only-of-type {\n",
       "        vertical-align: middle;\n",
       "    }\n",
       "\n",
       "    .dataframe tbody tr th {\n",
       "        vertical-align: top;\n",
       "    }\n",
       "\n",
       "    .dataframe thead th {\n",
       "        text-align: right;\n",
       "    }\n",
       "</style>\n",
       "<table border=\"1\" class=\"dataframe\">\n",
       "  <thead>\n",
       "    <tr style=\"text-align: right;\">\n",
       "      <th></th>\n",
       "      <th>age</th>\n",
       "      <th>educatn</th>\n",
       "      <th>earnings</th>\n",
       "      <th>hours</th>\n",
       "      <th>kids</th>\n",
       "    </tr>\n",
       "  </thead>\n",
       "  <tbody>\n",
       "    <tr>\n",
       "      <th>count</th>\n",
       "      <td>4856.000000</td>\n",
       "      <td>4855.000000</td>\n",
       "      <td>4856.000000</td>\n",
       "      <td>4856.000000</td>\n",
       "      <td>4856.000000</td>\n",
       "    </tr>\n",
       "    <tr>\n",
       "      <th>mean</th>\n",
       "      <td>38.462932</td>\n",
       "      <td>16.377137</td>\n",
       "      <td>14244.506178</td>\n",
       "      <td>1235.334843</td>\n",
       "      <td>4.481260</td>\n",
       "    </tr>\n",
       "    <tr>\n",
       "      <th>std</th>\n",
       "      <td>5.595116</td>\n",
       "      <td>18.449502</td>\n",
       "      <td>15985.447449</td>\n",
       "      <td>947.175837</td>\n",
       "      <td>14.887856</td>\n",
       "    </tr>\n",
       "    <tr>\n",
       "      <th>min</th>\n",
       "      <td>30.000000</td>\n",
       "      <td>0.000000</td>\n",
       "      <td>0.000000</td>\n",
       "      <td>0.000000</td>\n",
       "      <td>0.000000</td>\n",
       "    </tr>\n",
       "    <tr>\n",
       "      <th>25%</th>\n",
       "      <td>34.000000</td>\n",
       "      <td>12.000000</td>\n",
       "      <td>85.000000</td>\n",
       "      <td>32.000000</td>\n",
       "      <td>1.000000</td>\n",
       "    </tr>\n",
       "    <tr>\n",
       "      <th>50%</th>\n",
       "      <td>38.000000</td>\n",
       "      <td>12.000000</td>\n",
       "      <td>11000.000000</td>\n",
       "      <td>1517.000000</td>\n",
       "      <td>2.000000</td>\n",
       "    </tr>\n",
       "    <tr>\n",
       "      <th>75%</th>\n",
       "      <td>43.000000</td>\n",
       "      <td>14.000000</td>\n",
       "      <td>22000.000000</td>\n",
       "      <td>2000.000000</td>\n",
       "      <td>3.000000</td>\n",
       "    </tr>\n",
       "    <tr>\n",
       "      <th>max</th>\n",
       "      <td>50.000000</td>\n",
       "      <td>99.000000</td>\n",
       "      <td>240000.000000</td>\n",
       "      <td>5160.000000</td>\n",
       "      <td>99.000000</td>\n",
       "    </tr>\n",
       "  </tbody>\n",
       "</table>\n",
       "</div>"
      ],
      "text/plain": [
       "               age      educatn       earnings        hours         kids\n",
       "count  4856.000000  4855.000000    4856.000000  4856.000000  4856.000000\n",
       "mean     38.462932    16.377137   14244.506178  1235.334843     4.481260\n",
       "std       5.595116    18.449502   15985.447449   947.175837    14.887856\n",
       "min      30.000000     0.000000       0.000000     0.000000     0.000000\n",
       "25%      34.000000    12.000000      85.000000    32.000000     1.000000\n",
       "50%      38.000000    12.000000   11000.000000  1517.000000     2.000000\n",
       "75%      43.000000    14.000000   22000.000000  2000.000000     3.000000\n",
       "max      50.000000    99.000000  240000.000000  5160.000000    99.000000"
      ]
     },
     "execution_count": 21,
     "metadata": {},
     "output_type": "execute_result"
    }
   ],
   "source": [
    "import numpy as np\n",
    "import pandas as pd\n",
    "import matplotlib.pyplot as plt\n",
    "%matplotlib inline\n",
    "\n",
    "data = pd.read_csv('PSID.csv').drop(['Seq No', 'intnum', 'persnum'], axis=1)\n",
    "data.describe()"
   ]
  },
  {
   "cell_type": "markdown",
   "metadata": {},
   "source": [
    "### Visualization"
   ]
  },
  {
   "cell_type": "markdown",
   "metadata": {},
   "source": [
    "#### Age"
   ]
  },
  {
   "cell_type": "code",
   "execution_count": 22,
   "metadata": {},
   "outputs": [
    {
     "data": {
      "text/plain": [
       "Text(0.5, 0, 'Age')"
      ]
     },
     "execution_count": 22,
     "metadata": {},
     "output_type": "execute_result"
    },
    {
     "data": {
      "image/png": "[encoded data removed]",
      "text/plain": [
       "<Figure size 1152x432 with 2 Axes>"
      ]
     },
     "metadata": {
      "needs_background": "light"
     },
     "output_type": "display_data"
    }
   ],
   "source": [
    "fig, ax = plt.subplots(nrows=2, ncols=1, figsize=(16, 6))\n",
    "plt.subplots_adjust(hspace=0.5)\n",
    "\n",
    "ax[0].hist(data['age'], bins=50)\n",
    "ax[0].set_title(\"Age Distribution\")\n",
    "ax[0].set_xlabel('Age')\n",
    "ax[0].set_ylabel('Count')\n",
    "\n",
    "ax[1].boxplot(data['age'], vert=False)\n",
    "ax[1].grid(True)\n",
    "ax[1].set_xlabel('Age')"
   ]
  },
  {
   "cell_type": "markdown",
   "metadata": {},
   "source": [
    "#### Education"
   ]
  },
  {
   "cell_type": "code",
   "execution_count": 23,
   "metadata": {},
   "outputs": [
    {
     "data": {
      "image/png": "[encoded data removed]",
      "text/plain": [
       "<Figure size 1152x432 with 2 Axes>"
      ]
     },
     "metadata": {
      "needs_background": "light"
     },
     "output_type": "display_data"
    }
   ],
   "source": [
    "fig, ax = plt.subplots(nrows=2, ncols=1, figsize=(16, 6))\n",
    "plt.subplots_adjust(hspace=0.5)\n",
    "\n",
    "ax[0].hist(data['educatn'], bins=200)\n",
    "ax[0].set_title(\"Education Level Distribution\")\n",
    "ax[0].set_xlabel('Education Level')\n",
    "ax[0].set_ylabel('Number of People')\n",
    "\n",
    "ax[1].boxplot(data['educatn'], vert=False)\n",
    "ax[1].set_xlabel('Education Level')\n",
    "ax[1].grid(True)"
   ]
  },
  {
   "cell_type": "markdown",
   "metadata": {},
   "source": [
    "#### Earnings"
   ]
  },
  {
   "cell_type": "code",
   "execution_count": 24,
   "metadata": {},
   "outputs": [
    {
     "data": {
      "text/plain": [
       "Text(0.5, 0, 'Earnings')"
      ]
     },
     "execution_count": 24,
     "metadata": {},
     "output_type": "execute_result"
    },
    {
     "data": {
      "image/png": "[encoded data removed]",
      "text/plain": [
       "<Figure size 1152x432 with 2 Axes>"
      ]
     },
     "metadata": {
      "needs_background": "light"
     },
     "output_type": "display_data"
    }
   ],
   "source": [
    "fig, ax = plt.subplots(nrows=2, ncols=1, figsize=(16, 6))\n",
    "plt.subplots_adjust(hspace=0.5)\n",
    "\n",
    "ax[0].hist(data['earnings'], bins=200)\n",
    "ax[0].set_title(\"Earnings Distribution\")\n",
    "ax[0].set_xlabel('Earnings')\n",
    "ax[0].set_ylabel('Number of People')\n",
    "\n",
    "ax[1].boxplot(data['earnings'], vert=False)\n",
    "ax[1].grid(True)\n",
    "ax[1].set_xlabel('Earnings')"
   ]
  },
  {
   "cell_type": "markdown",
   "metadata": {},
   "source": [
    "#### Number of Kids"
   ]
  },
  {
   "cell_type": "code",
   "execution_count": 25,
   "metadata": {},
   "outputs": [
    {
     "data": {
      "text/plain": [
       "Text(0.5, 0, 'Number of Kids')"
      ]
     },
     "execution_count": 25,
     "metadata": {},
     "output_type": "execute_result"
    },
    {
     "data": {
      "image/png": "[encoded data removed]",
      "text/plain": [
       "<Figure size 1152x720 with 2 Axes>"
      ]
     },
     "metadata": {
      "needs_background": "light"
     },
     "output_type": "display_data"
    }
   ],
   "source": [
    "fig, ax = plt.subplots(nrows=2, ncols=1, figsize=(16, 10))\n",
    "\n",
    "ax[0].hist(data['kids'], bins=200)\n",
    "ax[0].set_title(\"Number of Kids Distribution\")\n",
    "ax[0].set_xlabel('Number of Kids')\n",
    "ax[0].set_ylabel('Frequency')\n",
    "\n",
    "ax[1].boxplot(data['kids'], vert=False)\n",
    "ax[1].grid(True)\n",
    "ax[1].set_xlabel('Number of Kids')"
   ]
  },
  {
   "cell_type": "markdown",
   "metadata": {},
   "source": [
    "#### Martial status"
   ]
  },
  {
   "cell_type": "code",
   "execution_count": 26,
   "metadata": {},
   "outputs": [
    {
     "data": {
      "text/plain": [
       "Text(0, 0.5, 'Count')"
      ]
     },
     "execution_count": 26,
     "metadata": {},
     "output_type": "execute_result"
    },
    {
     "data": {
      "image/png": "[encoded data removed]",
      "text/plain": [
       "<Figure size 1080x432 with 1 Axes>"
      ]
     },
     "metadata": {
      "needs_background": "light"
     },
     "output_type": "display_data"
    }
   ],
   "source": [
    "married = data['married'].value_counts()\n",
    "married.plot(kind='bar',figsize=(15,6))\n",
    "plt.xlabel('Martial Status')\n",
    "plt.ylabel('Count')"
   ]
  },
  {
   "cell_type": "markdown",
   "metadata": {},
   "source": [
    "### Removing Outliers"
   ]
  },
  {
   "cell_type": "markdown",
   "metadata": {},
   "source": [
    "In the previous section, we identified that there are outliers after earnings exceed 55000. So we filter out those records as below"
   ]
  },
  {
   "cell_type": "code",
   "execution_count": 27,
   "metadata": {},
   "outputs": [
    {
     "data": {
      "text/plain": [
       "Text(0.5, 0, 'Earnings')"
      ]
     },
     "execution_count": 27,
     "metadata": {},
     "output_type": "execute_result"
    },
    {
     "data": {
      "image/png": "[encoded data removed]",
      "text/plain": [
       "<Figure size 1152x576 with 2 Axes>"
      ]
     },
     "metadata": {
      "needs_background": "light"
     },
     "output_type": "display_data"
    }
   ],
   "source": [
    "extracted_data = data.drop(data[data.earnings > 55000].index)\n",
    "fig, ax = plt.subplots(nrows=2, ncols=1, figsize=(16, 8))\n",
    "\n",
    "ax[0].hist(extracted_data['earnings'], bins=200)\n",
    "ax[0].set_title(\"Earnings Distribution\")\n",
    "ax[0].set_xlabel('Earnings')\n",
    "ax[0].set_ylabel('Number of People')\n",
    "\n",
    "ax[1].boxplot(extracted_data['earnings'], vert=False)\n",
    "ax[1].grid(True)\n",
    "ax[1].set_xlabel('Earnings')"
   ]
  },
  {
   "cell_type": "markdown",
   "metadata": {},
   "source": [
    "In the previous section, we identified that there are outliers after age is above 6. So we filter out those records as below"
   ]
  },
  {
   "cell_type": "code",
   "execution_count": 28,
   "metadata": {},
   "outputs": [
    {
     "data": {
      "text/plain": [
       "Text(0.5, 0, 'Number of Kids')"
      ]
     },
     "execution_count": 28,
     "metadata": {},
     "output_type": "execute_result"
    },
    {
     "data": {
      "image/png": "[encoded data removed]",
      "text/plain": [
       "<Figure size 1152x576 with 2 Axes>"
      ]
     },
     "metadata": {
      "needs_background": "light"
     },
     "output_type": "display_data"
    }
   ],
   "source": [
    "extracted_data = extracted_data.drop(extracted_data[extracted_data.kids > 6].index)\n",
    "\n",
    "fig, ax = plt.subplots(nrows=2, ncols=1, figsize=(16, 8))\n",
    "\n",
    "ax[0].hist(extracted_data['kids'], bins=12)\n",
    "ax[0].set_title(\"Number of Kids Distribution\")\n",
    "ax[0].set_xlabel('Number of Kids')\n",
    "ax[0].set_ylabel('Frequency')\n",
    "\n",
    "ax[1].boxplot(extracted_data['kids'], vert=False)\n",
    "ax[1].grid(True)\n",
    "ax[1].set_xlabel('Number of Kids')"
   ]
  },
  {
   "cell_type": "markdown",
   "metadata": {},
   "source": [
    "In the previous section, we identified that there are outliers after eduction level is above 20. So we filter out those records as below"
   ]
  },
  {
   "cell_type": "code",
   "execution_count": 29,
   "metadata": {},
   "outputs": [
    {
     "data": {
      "text/plain": [
       "Text(0.5, 0, 'Education level')"
      ]
     },
     "execution_count": 29,
     "metadata": {},
     "output_type": "execute_result"
    },
    {
     "data": {
      "image/png": "[encoded data removed]",
      "text/plain": [
       "<Figure size 1080x432 with 1 Axes>"
      ]
     },
     "metadata": {
      "needs_background": "light"
     },
     "output_type": "display_data"
    }
   ],
   "source": [
    "extracted_data = extracted_data.drop(extracted_data[extracted_data.educatn > 20].index)\n",
    "extracted_data = extracted_data.drop(extracted_data[extracted_data.educatn < 9].index)\n",
    "\n",
    "# fig, ax = plt.subplots(nrows=2, ncols=1, figsize=(16, 8))\n",
    "\n",
    "# ax[0].hist(extracted_data['educatn'], bins=12)\n",
    "# ax[0].set_title(\"Number of Kids Distribution\")\n",
    "# ax[0].set_xlabel('Number of Kids')\n",
    "# ax[0].set_ylabel('Frequency')\n",
    "\n",
    "# ax[1].boxplot(extracted_data['educatn'], vert=False)\n",
    "# ax[1].grid(True)\n",
    "# ax[1].set_xlabel('Number of Kids')\n",
    "\n",
    "extracted_data.boxplot(column=['educatn'], grid=False, return_type=None, vert=False, figsize=(15,6))\n",
    "plt.xlabel('Education level')"
   ]
  },
  {
   "cell_type": "markdown",
   "metadata": {},
   "source": [
    "### Observations on relations"
   ]
  },
  {
   "cell_type": "code",
   "execution_count": null,
   "metadata": {},
   "outputs": [
    {
     "data": {
      "text/plain": [
       "Text(0, 0.5, 'Hours')"
      ]
     },
     "execution_count": 30,
     "metadata": {},
     "output_type": "execute_result"
    }
   ],
   "source": [
    "fig, ax = plt.subplots(3, 3, figsize=(20, 14))\n",
    "plt.subplots_adjust(hspace=0.5)\n",
    "\n",
    "ax[0, 0].scatter(extracted_data['educatn'], extracted_data['earnings'])\n",
    "ax[0, 0].set_title('Earnings vs Education')\n",
    "ax[0, 0].set_xlabel(\"Education\")\n",
    "ax[0, 0].set_ylabel(\"Earnings\")\n",
    "\n",
    "ax[0, 1].scatter(extracted_data['kids'], extracted_data['educatn'])\n",
    "ax[0, 1].set_title('Kids vs Education')\n",
    "ax[0, 1].set_xlabel(\"Education\")\n",
    "ax[0, 1].set_ylabel(\"Kids\")\n",
    "\n",
    "ax[0, 2].scatter(extracted_data['married'], extracted_data['kids'])\n",
    "ax[0, 2].set_title('Marital staus vs kids')\n",
    "ax[0, 2].set_xlabel(\"Marital status\")\n",
    "ax[0, 2].set_ylabel(\"Kids\")\n",
    "\n",
    "\n",
    "ax[1, 0].scatter(extracted_data['married'], extracted_data['earnings'])\n",
    "ax[1, 0].set_title('Earnings vs Martial Status')\n",
    "ax[1, 0].set_xlabel(\"Marital status\")\n",
    "ax[1, 0].set_ylabel(\"Earnings\")\n",
    "\n",
    "ax[1, 1].scatter(extracted_data['age'], extracted_data['earnings'])\n",
    "ax[1, 1].set_title('Earnings vs age')\n",
    "ax[1, 1].set_xlabel(\"Age\")\n",
    "ax[1, 1].set_ylabel(\"Earnings\")\n",
    "\n",
    "ax[1, 2].scatter(extracted_data['married'], extracted_data['age'])\n",
    "ax[1, 2].set_title('Age vs Martial Status')\n",
    "ax[1, 2].set_xlabel(\"Marital status\")\n",
    "ax[1, 2].set_ylabel(\"Age\")\n",
    "\n",
    "\n",
    "ax[2, 0].scatter(extracted_data['hours'], extracted_data['earnings'])\n",
    "ax[2, 0].set_title('Earnigns vs Hours')\n",
    "ax[2, 0].set_xlabel(\"hours\")\n",
    "ax[2, 0].set_ylabel(\"Earnings\")\n",
    "\n",
    "ax[2, 1].scatter(extracted_data['age'], extracted_data['hours'])\n",
    "ax[2, 1].set_title('Hours vs Age')\n",
    "ax[2, 1].set_xlabel(\"age\")\n",
    "ax[2, 1].set_ylabel(\"hours\")\n",
    "\n",
    "ax[2, 2].scatter(extracted_data['married'], extracted_data['hours'])\n",
    "ax[2, 2].set_title('Hours vs Martial Status')\n",
    "ax[2, 2].set_xlabel(\"Marital status\")\n",
    "ax[2, 2].set_ylabel(\"Hours\")"
   ]
  },
  {
   "cell_type": "markdown",
   "metadata": {},
   "source": [
    "#### Spearman correlation coefficiant "
   ]
  },
  {
   "cell_type": "code",
   "execution_count": 12,
   "metadata": {},
   "outputs": [
    {
     "data": {
      "text/html": [
       "<div>\n",
       "<style scoped>\n",
       "    .dataframe tbody tr th:only-of-type {\n",
       "        vertical-align: middle;\n",
       "    }\n",
       "\n",
       "    .dataframe tbody tr th {\n",
       "        vertical-align: top;\n",
       "    }\n",
       "\n",
       "    .dataframe thead th {\n",
       "        text-align: right;\n",
       "    }\n",
       "</style>\n",
       "<table border=\"1\" class=\"dataframe\">\n",
       "  <thead>\n",
       "    <tr style=\"text-align: right;\">\n",
       "      <th></th>\n",
       "      <th>age</th>\n",
       "      <th>educatn</th>\n",
       "      <th>earnings</th>\n",
       "      <th>hours</th>\n",
       "      <th>kids</th>\n",
       "    </tr>\n",
       "  </thead>\n",
       "  <tbody>\n",
       "    <tr>\n",
       "      <th>age</th>\n",
       "      <td>1.000000</td>\n",
       "      <td>0.011966</td>\n",
       "      <td>0.119079</td>\n",
       "      <td>0.072843</td>\n",
       "      <td>0.132457</td>\n",
       "    </tr>\n",
       "    <tr>\n",
       "      <th>educatn</th>\n",
       "      <td>0.011966</td>\n",
       "      <td>1.000000</td>\n",
       "      <td>0.324357</td>\n",
       "      <td>0.110111</td>\n",
       "      <td>-0.225094</td>\n",
       "    </tr>\n",
       "    <tr>\n",
       "      <th>earnings</th>\n",
       "      <td>0.119079</td>\n",
       "      <td>0.324357</td>\n",
       "      <td>1.000000</td>\n",
       "      <td>0.759218</td>\n",
       "      <td>-0.217805</td>\n",
       "    </tr>\n",
       "    <tr>\n",
       "      <th>hours</th>\n",
       "      <td>0.072843</td>\n",
       "      <td>0.110111</td>\n",
       "      <td>0.759218</td>\n",
       "      <td>1.000000</td>\n",
       "      <td>-0.155404</td>\n",
       "    </tr>\n",
       "    <tr>\n",
       "      <th>kids</th>\n",
       "      <td>0.132457</td>\n",
       "      <td>-0.225094</td>\n",
       "      <td>-0.217805</td>\n",
       "      <td>-0.155404</td>\n",
       "      <td>1.000000</td>\n",
       "    </tr>\n",
       "  </tbody>\n",
       "</table>\n",
       "</div>"
      ],
      "text/plain": [
       "               age   educatn  earnings     hours      kids\n",
       "age       1.000000  0.011966  0.119079  0.072843  0.132457\n",
       "educatn   0.011966  1.000000  0.324357  0.110111 -0.225094\n",
       "earnings  0.119079  0.324357  1.000000  0.759218 -0.217805\n",
       "hours     0.072843  0.110111  0.759218  1.000000 -0.155404\n",
       "kids      0.132457 -0.225094 -0.217805 -0.155404  1.000000"
      ]
     },
     "execution_count": 12,
     "metadata": {},
     "output_type": "execute_result"
    }
   ],
   "source": [
    "extracted_data.corr(method=\"spearman\")"
   ]
  },
  {
   "cell_type": "markdown",
   "metadata": {},
   "source": [
    "#### Observations:\n",
    "\n",
    "1. Earnings and working hours has a strong positive correlation. i.e when a person works for longer period, he/she will get higher earnings\n",
    "\n"
   ]
  },
  {
   "cell_type": "markdown",
   "metadata": {},
   "source": [
    "### Hypothesis Testing"
   ]
  },
  {
   "cell_type": "markdown",
   "metadata": {},
   "source": [
    "#### 1. Does income affect the number of kids in a family \n",
    "\n",
    "µ  - Average income for families (General Mean)\n",
    "µl - Average income for families having 2 or less than 2 kids (Sample Mean)\n",
    "\n",
    "\n",
    "Ho : µl = µ  Null hypothesis  (Average income of families with kids having 2 or below 2 is equal to average general income of families)\n",
    "H1 : µ1 ≠ µ  Alternative hypothesis"
   ]
  },
  {
   "cell_type": "code",
   "execution_count": 13,
   "metadata": {},
   "outputs": [
    {
     "name": "stdout",
     "output_type": "stream",
     "text": [
      "16011.995540691192\n",
      "14260.09577327144\n",
      "13228.02562359373\n",
      "0.13243849212803419\n"
     ]
    }
   ],
   "source": [
    "data = pd.DataFrame(extracted_data)\n",
    "\n",
    "l_kids = data.loc[data['kids'] <= 2]\n",
    "µl = l_kids['earnings'].mean()      \n",
    "avg_income = data['earnings'].mean()\n",
    "std_income = data['earnings'].std()\n",
    "\n",
    "Z = (µl-avg_income)/(std_income)\n",
    "z_critical = 1.96 # alpha level of 0.05 and two-tailed test\n",
    "\n",
    "print(µl)\n",
    "print(avg_income)\n",
    "print(std_income)\n",
    "print(Z)"
   ]
  },
  {
   "cell_type": "markdown",
   "metadata": {},
   "source": [
    "µl = 16011.995540691192\n",
    "avg_income = 14260.09577327144\n",
    "std_income = 13228.02562359373\n",
    "Z = 0.1324384921280341\n",
    "\n",
    "As 0.1324 < 1.96 we can't reject null hypothesis with 95% significant level "
   ]
  },
  {
   "cell_type": "markdown",
   "metadata": {},
   "source": [
    "#### 2. Will income increase with the age \n",
    "\n",
    "µ  - Average income \n",
    "µl - Average income for people with age above 35 \n",
    "\n",
    "Ho : µl = µ  Null hypothesis  (Average income of families with kids having 2 or below 2 is equal to average general income of families)\n",
    "H1 : µ1 ≠ µ  Alternative hypothesis"
   ]
  },
  {
   "cell_type": "code",
   "execution_count": 15,
   "metadata": {},
   "outputs": [
    {
     "name": "stdout",
     "output_type": "stream",
     "text": [
      "15487.722415795586\n",
      "14260.09577327144\n",
      "13228.02562359373\n",
      "0.0928049791750124\n"
     ]
    }
   ],
   "source": [
    "data = pd.DataFrame(extracted_data)\n",
    "\n",
    "o_data = data.loc[data['age'] > 35]\n",
    "µo = o_data['earnings'].mean()      \n",
    "avg_income = data['earnings'].mean()\n",
    "std_income = data['earnings'].std()\n",
    "\n",
    "Z = (µo-avg_income)/(std_income)\n",
    "z_critical = 1.96 # alpha level of 0.05 and two-tailed test\n",
    "\n",
    "print(µo)\n",
    "print(avg_income)\n",
    "print(std_income)\n",
    "print(Z)"
   ]
  },
  {
   "cell_type": "markdown",
   "metadata": {},
   "source": [
    "µo = 15487.722415795586\n",
    "avg_income = 14260.09577327144\n",
    "std_income = 13228.02562359373\n",
    "Z = 0.0928049791750124\n",
    "\n",
    "As 0.0928 < 1.96 we can't reject null hypothesis with 95% significant level"
   ]
  },
  {
   "cell_type": "code",
   "execution_count": null,
   "metadata": {},
   "outputs": [],
   "source": []
  }
 ],
 "metadata": {
  "kernelspec": {
   "display_name": "Python 3",
   "language": "python",
   "name": "python3"
  },
  "language_info": {
   "codemirror_mode": {
    "name": "ipython",
    "version": 3
   },
   "file_extension": ".py",
   "mimetype": "text/x-python",
   "name": "python",
   "nbconvert_exporter": "python",
   "pygments_lexer": "ipython3",
   "version": "3.7.1"
  }
 },
 "nbformat": 4,
 "nbformat_minor": 2
}
